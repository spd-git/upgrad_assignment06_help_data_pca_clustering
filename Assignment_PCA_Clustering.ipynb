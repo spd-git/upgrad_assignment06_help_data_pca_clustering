{
 "cells": [
  {
   "cell_type": "code",
   "execution_count": 1,
   "metadata": {},
   "outputs": [],
   "source": [
    "#Importing Libraries\n",
    "import pandas as pd\n",
    "import numpy as np\n",
    "import matplotlib.pyplot as plt\n",
    "import seaborn as sns\n",
    "from random import sample\n",
    "from numpy.random import uniform\n",
    "from math import isnan\n",
    "from scipy import stats\n",
    "from sklearn.preprocessing import scale\n",
    "from sklearn.preprocessing import MinMaxScaler\n",
    "from sklearn.cluster import KMeans\n",
    "from sklearn.decomposition import PCA\n",
    "from sklearn.decomposition import IncrementalPCA\n",
    "from sklearn.metrics import silhouette_score\n",
    "from sklearn.neighbors import NearestNeighbors\n",
    "from scipy.cluster.hierarchy import linkage\n",
    "from scipy.cluster.hierarchy import dendrogram\n",
    "from scipy.cluster.hierarchy import cut_tree"
   ]
  },
  {
   "cell_type": "code",
   "execution_count": 2,
   "metadata": {},
   "outputs": [],
   "source": [
    "country = pd.read_csv(\"country-data.csv\",  sep = ',',encoding = \"ISO-8859-1\", header= 0)"
   ]
  },
  {
   "cell_type": "code",
   "execution_count": 3,
   "metadata": {
    "scrolled": true
   },
   "outputs": [
    {
     "data": {
      "text/html": [
       "<div>\n",
       "<style scoped>\n",
       "    .dataframe tbody tr th:only-of-type {\n",
       "        vertical-align: middle;\n",
       "    }\n",
       "\n",
       "    .dataframe tbody tr th {\n",
       "        vertical-align: top;\n",
       "    }\n",
       "\n",
       "    .dataframe thead th {\n",
       "        text-align: right;\n",
       "    }\n",
       "</style>\n",
       "<table border=\"1\" class=\"dataframe\">\n",
       "  <thead>\n",
       "    <tr style=\"text-align: right;\">\n",
       "      <th></th>\n",
       "      <th>country</th>\n",
       "      <th>child_mort</th>\n",
       "      <th>exports</th>\n",
       "      <th>health</th>\n",
       "      <th>imports</th>\n",
       "      <th>income</th>\n",
       "      <th>inflation</th>\n",
       "      <th>life_expec</th>\n",
       "      <th>total_fer</th>\n",
       "      <th>gdpp</th>\n",
       "    </tr>\n",
       "  </thead>\n",
       "  <tbody>\n",
       "    <tr>\n",
       "      <th>0</th>\n",
       "      <td>Afghanistan</td>\n",
       "      <td>90.2</td>\n",
       "      <td>10.0</td>\n",
       "      <td>7.58</td>\n",
       "      <td>44.9</td>\n",
       "      <td>1610</td>\n",
       "      <td>9.44</td>\n",
       "      <td>56.2</td>\n",
       "      <td>5.82</td>\n",
       "      <td>553</td>\n",
       "    </tr>\n",
       "    <tr>\n",
       "      <th>1</th>\n",
       "      <td>Albania</td>\n",
       "      <td>16.6</td>\n",
       "      <td>28.0</td>\n",
       "      <td>6.55</td>\n",
       "      <td>48.6</td>\n",
       "      <td>9930</td>\n",
       "      <td>4.49</td>\n",
       "      <td>76.3</td>\n",
       "      <td>1.65</td>\n",
       "      <td>4090</td>\n",
       "    </tr>\n",
       "    <tr>\n",
       "      <th>2</th>\n",
       "      <td>Algeria</td>\n",
       "      <td>27.3</td>\n",
       "      <td>38.4</td>\n",
       "      <td>4.17</td>\n",
       "      <td>31.4</td>\n",
       "      <td>12900</td>\n",
       "      <td>16.10</td>\n",
       "      <td>76.5</td>\n",
       "      <td>2.89</td>\n",
       "      <td>4460</td>\n",
       "    </tr>\n",
       "    <tr>\n",
       "      <th>3</th>\n",
       "      <td>Angola</td>\n",
       "      <td>119.0</td>\n",
       "      <td>62.3</td>\n",
       "      <td>2.85</td>\n",
       "      <td>42.9</td>\n",
       "      <td>5900</td>\n",
       "      <td>22.40</td>\n",
       "      <td>60.1</td>\n",
       "      <td>6.16</td>\n",
       "      <td>3530</td>\n",
       "    </tr>\n",
       "    <tr>\n",
       "      <th>4</th>\n",
       "      <td>Antigua and Barbuda</td>\n",
       "      <td>10.3</td>\n",
       "      <td>45.5</td>\n",
       "      <td>6.03</td>\n",
       "      <td>58.9</td>\n",
       "      <td>19100</td>\n",
       "      <td>1.44</td>\n",
       "      <td>76.8</td>\n",
       "      <td>2.13</td>\n",
       "      <td>12200</td>\n",
       "    </tr>\n",
       "  </tbody>\n",
       "</table>\n",
       "</div>"
      ],
      "text/plain": [
       "               country  child_mort  exports  health  imports  income  \\\n",
       "0          Afghanistan        90.2     10.0    7.58     44.9    1610   \n",
       "1              Albania        16.6     28.0    6.55     48.6    9930   \n",
       "2              Algeria        27.3     38.4    4.17     31.4   12900   \n",
       "3               Angola       119.0     62.3    2.85     42.9    5900   \n",
       "4  Antigua and Barbuda        10.3     45.5    6.03     58.9   19100   \n",
       "\n",
       "   inflation  life_expec  total_fer   gdpp  \n",
       "0       9.44        56.2       5.82    553  \n",
       "1       4.49        76.3       1.65   4090  \n",
       "2      16.10        76.5       2.89   4460  \n",
       "3      22.40        60.1       6.16   3530  \n",
       "4       1.44        76.8       2.13  12200  "
      ]
     },
     "execution_count": 3,
     "metadata": {},
     "output_type": "execute_result"
    }
   ],
   "source": [
    "country.head()"
   ]
  },
  {
   "cell_type": "code",
   "execution_count": 4,
   "metadata": {},
   "outputs": [
    {
     "data": {
      "text/plain": [
       "(167, 10)"
      ]
     },
     "execution_count": 4,
     "metadata": {},
     "output_type": "execute_result"
    }
   ],
   "source": [
    "country.shape"
   ]
  },
  {
   "cell_type": "code",
   "execution_count": 5,
   "metadata": {},
   "outputs": [
    {
     "data": {
      "text/plain": [
       "country       0\n",
       "child_mort    0\n",
       "exports       0\n",
       "health        0\n",
       "imports       0\n",
       "income        0\n",
       "inflation     0\n",
       "life_expec    0\n",
       "total_fer     0\n",
       "gdpp          0\n",
       "dtype: int64"
      ]
     },
     "execution_count": 5,
     "metadata": {},
     "output_type": "execute_result"
    }
   ],
   "source": [
    "country.isnull().sum(axis=0)"
   ]
  },
  {
   "cell_type": "code",
   "execution_count": 6,
   "metadata": {
    "scrolled": true
   },
   "outputs": [
    {
     "data": {
      "text/html": [
       "<div>\n",
       "<style scoped>\n",
       "    .dataframe tbody tr th:only-of-type {\n",
       "        vertical-align: middle;\n",
       "    }\n",
       "\n",
       "    .dataframe tbody tr th {\n",
       "        vertical-align: top;\n",
       "    }\n",
       "\n",
       "    .dataframe thead th {\n",
       "        text-align: right;\n",
       "    }\n",
       "</style>\n",
       "<table border=\"1\" class=\"dataframe\">\n",
       "  <thead>\n",
       "    <tr style=\"text-align: right;\">\n",
       "      <th></th>\n",
       "      <th>country</th>\n",
       "      <th>child_mort</th>\n",
       "      <th>exports</th>\n",
       "      <th>health</th>\n",
       "      <th>imports</th>\n",
       "      <th>income</th>\n",
       "      <th>inflation</th>\n",
       "      <th>life_expec</th>\n",
       "      <th>total_fer</th>\n",
       "      <th>gdpp</th>\n",
       "    </tr>\n",
       "  </thead>\n",
       "  <tbody>\n",
       "  </tbody>\n",
       "</table>\n",
       "</div>"
      ],
      "text/plain": [
       "Empty DataFrame\n",
       "Columns: [country, child_mort, exports, health, imports, income, inflation, life_expec, total_fer, gdpp]\n",
       "Index: []"
      ]
     },
     "execution_count": 6,
     "metadata": {},
     "output_type": "execute_result"
    }
   ],
   "source": [
    "country[country.isnull().sum(axis=1) > 0]"
   ]
  },
  {
   "cell_type": "code",
   "execution_count": 7,
   "metadata": {},
   "outputs": [],
   "source": [
    "pca = PCA(svd_solver='randomized', random_state=42)"
   ]
  },
  {
   "cell_type": "code",
   "execution_count": 8,
   "metadata": {},
   "outputs": [],
   "source": [
    "X = country.drop('country', axis=1)"
   ]
  },
  {
   "cell_type": "code",
   "execution_count": 9,
   "metadata": {},
   "outputs": [],
   "source": [
    "num_cols = np.array(X.select_dtypes(exclude=[object]).columns)"
   ]
  },
  {
   "cell_type": "code",
   "execution_count": 10,
   "metadata": {},
   "outputs": [],
   "source": [
    "scaler = MinMaxScaler()"
   ]
  },
  {
   "cell_type": "code",
   "execution_count": 11,
   "metadata": {},
   "outputs": [],
   "source": [
    "X[num_cols] = scaler.fit_transform(X[num_cols])"
   ]
  },
  {
   "cell_type": "code",
   "execution_count": 12,
   "metadata": {},
   "outputs": [
    {
     "data": {
      "text/html": [
       "<div>\n",
       "<style scoped>\n",
       "    .dataframe tbody tr th:only-of-type {\n",
       "        vertical-align: middle;\n",
       "    }\n",
       "\n",
       "    .dataframe tbody tr th {\n",
       "        vertical-align: top;\n",
       "    }\n",
       "\n",
       "    .dataframe thead th {\n",
       "        text-align: right;\n",
       "    }\n",
       "</style>\n",
       "<table border=\"1\" class=\"dataframe\">\n",
       "  <thead>\n",
       "    <tr style=\"text-align: right;\">\n",
       "      <th></th>\n",
       "      <th>child_mort</th>\n",
       "      <th>exports</th>\n",
       "      <th>health</th>\n",
       "      <th>imports</th>\n",
       "      <th>income</th>\n",
       "      <th>inflation</th>\n",
       "      <th>life_expec</th>\n",
       "      <th>total_fer</th>\n",
       "      <th>gdpp</th>\n",
       "    </tr>\n",
       "  </thead>\n",
       "  <tbody>\n",
       "    <tr>\n",
       "      <th>count</th>\n",
       "      <td>167.000000</td>\n",
       "      <td>167.000000</td>\n",
       "      <td>167.000000</td>\n",
       "      <td>167.000000</td>\n",
       "      <td>167.000000</td>\n",
       "      <td>167.000000</td>\n",
       "      <td>167.000000</td>\n",
       "      <td>167.000000</td>\n",
       "      <td>167.000000</td>\n",
       "    </tr>\n",
       "    <tr>\n",
       "      <th>mean</th>\n",
       "      <td>0.173661</td>\n",
       "      <td>0.205112</td>\n",
       "      <td>0.311106</td>\n",
       "      <td>0.269207</td>\n",
       "      <td>0.132933</td>\n",
       "      <td>0.110820</td>\n",
       "      <td>0.758495</td>\n",
       "      <td>0.283591</td>\n",
       "      <td>0.121536</td>\n",
       "    </tr>\n",
       "    <tr>\n",
       "      <th>std</th>\n",
       "      <td>0.196343</td>\n",
       "      <td>0.137135</td>\n",
       "      <td>0.170717</td>\n",
       "      <td>0.139188</td>\n",
       "      <td>0.154980</td>\n",
       "      <td>0.097687</td>\n",
       "      <td>0.175408</td>\n",
       "      <td>0.238777</td>\n",
       "      <td>0.174944</td>\n",
       "    </tr>\n",
       "    <tr>\n",
       "      <th>min</th>\n",
       "      <td>0.000000</td>\n",
       "      <td>0.000000</td>\n",
       "      <td>0.000000</td>\n",
       "      <td>0.000000</td>\n",
       "      <td>0.000000</td>\n",
       "      <td>0.000000</td>\n",
       "      <td>0.000000</td>\n",
       "      <td>0.000000</td>\n",
       "      <td>0.000000</td>\n",
       "    </tr>\n",
       "    <tr>\n",
       "      <th>25%</th>\n",
       "      <td>0.027507</td>\n",
       "      <td>0.118520</td>\n",
       "      <td>0.193288</td>\n",
       "      <td>0.173250</td>\n",
       "      <td>0.022076</td>\n",
       "      <td>0.055633</td>\n",
       "      <td>0.654832</td>\n",
       "      <td>0.101735</td>\n",
       "      <td>0.010490</td>\n",
       "    </tr>\n",
       "    <tr>\n",
       "      <th>50%</th>\n",
       "      <td>0.081305</td>\n",
       "      <td>0.174550</td>\n",
       "      <td>0.280298</td>\n",
       "      <td>0.248566</td>\n",
       "      <td>0.075174</td>\n",
       "      <td>0.088716</td>\n",
       "      <td>0.808679</td>\n",
       "      <td>0.198738</td>\n",
       "      <td>0.042274</td>\n",
       "    </tr>\n",
       "    <tr>\n",
       "      <th>75%</th>\n",
       "      <td>0.289679</td>\n",
       "      <td>0.256345</td>\n",
       "      <td>0.422001</td>\n",
       "      <td>0.337393</td>\n",
       "      <td>0.178397</td>\n",
       "      <td>0.138250</td>\n",
       "      <td>0.881657</td>\n",
       "      <td>0.430599</td>\n",
       "      <td>0.131900</td>\n",
       "    </tr>\n",
       "    <tr>\n",
       "      <th>max</th>\n",
       "      <td>1.000000</td>\n",
       "      <td>1.000000</td>\n",
       "      <td>1.000000</td>\n",
       "      <td>1.000000</td>\n",
       "      <td>1.000000</td>\n",
       "      <td>1.000000</td>\n",
       "      <td>1.000000</td>\n",
       "      <td>1.000000</td>\n",
       "      <td>1.000000</td>\n",
       "    </tr>\n",
       "  </tbody>\n",
       "</table>\n",
       "</div>"
      ],
      "text/plain": [
       "       child_mort     exports      health     imports      income   inflation  \\\n",
       "count  167.000000  167.000000  167.000000  167.000000  167.000000  167.000000   \n",
       "mean     0.173661    0.205112    0.311106    0.269207    0.132933    0.110820   \n",
       "std      0.196343    0.137135    0.170717    0.139188    0.154980    0.097687   \n",
       "min      0.000000    0.000000    0.000000    0.000000    0.000000    0.000000   \n",
       "25%      0.027507    0.118520    0.193288    0.173250    0.022076    0.055633   \n",
       "50%      0.081305    0.174550    0.280298    0.248566    0.075174    0.088716   \n",
       "75%      0.289679    0.256345    0.422001    0.337393    0.178397    0.138250   \n",
       "max      1.000000    1.000000    1.000000    1.000000    1.000000    1.000000   \n",
       "\n",
       "       life_expec   total_fer        gdpp  \n",
       "count  167.000000  167.000000  167.000000  \n",
       "mean     0.758495    0.283591    0.121536  \n",
       "std      0.175408    0.238777    0.174944  \n",
       "min      0.000000    0.000000    0.000000  \n",
       "25%      0.654832    0.101735    0.010490  \n",
       "50%      0.808679    0.198738    0.042274  \n",
       "75%      0.881657    0.430599    0.131900  \n",
       "max      1.000000    1.000000    1.000000  "
      ]
     },
     "execution_count": 12,
     "metadata": {},
     "output_type": "execute_result"
    }
   ],
   "source": [
    "X.describe()"
   ]
  },
  {
   "cell_type": "code",
   "execution_count": 13,
   "metadata": {},
   "outputs": [
    {
     "data": {
      "text/plain": [
       "PCA(copy=True, iterated_power='auto', n_components=None, random_state=42,\n",
       "  svd_solver='randomized', tol=0.0, whiten=False)"
      ]
     },
     "execution_count": 13,
     "metadata": {},
     "output_type": "execute_result"
    }
   ],
   "source": [
    "pca.fit(X)"
   ]
  },
  {
   "cell_type": "code",
   "execution_count": 14,
   "metadata": {},
   "outputs": [
    {
     "data": {
      "text/plain": [
       "array([[-0.47646333,  0.17033279,  0.13388598,  0.08161987,  0.30698142,\n",
       "        -0.08800904,  0.42053483, -0.57108745,  0.33824337],\n",
       "       [ 0.28173309,  0.46664393,  0.04450977,  0.39425729,  0.40440481,\n",
       "        -0.00160198, -0.13751974,  0.36924598,  0.47607761],\n",
       "       [ 0.1000117 , -0.390524  ,  0.78191122, -0.30277481,  0.06836671,\n",
       "        -0.05702928,  0.00785737,  0.17483647,  0.30963696],\n",
       "       [ 0.02908132, -0.18848786, -0.51298346, -0.6066558 ,  0.3728225 ,\n",
       "         0.21262116,  0.14802117,  0.17306242,  0.31044817],\n",
       "       [ 0.42095743, -0.10579788, -0.08330309, -0.10081385,  0.15996971,\n",
       "        -0.2195551 , -0.5564373 , -0.62684939,  0.13469013],\n",
       "       [ 0.08309594,  0.15131228,  0.2081468 , -0.01221525,  0.02247672,\n",
       "         0.92453091, -0.10955292, -0.23223954, -0.07433502],\n",
       "       [-0.68892064, -0.06411594,  0.0203469 , -0.01074206,  0.24033746,\n",
       "         0.02335202, -0.6560359 ,  0.17206635, -0.04950529],\n",
       "       [-0.05031919, -0.64019218, -0.22728423,  0.54440667, -0.19006577,\n",
       "         0.20070661,  0.00204731, -0.01699321,  0.40358904],\n",
       "       [ 0.14665381, -0.34226896,  0.05674171,  0.26718698,  0.6917846 ,\n",
       "        -0.00119868,  0.17394011,  0.01507247, -0.52695959]])"
      ]
     },
     "execution_count": 14,
     "metadata": {},
     "output_type": "execute_result"
    }
   ],
   "source": [
    "pca.components_"
   ]
  },
  {
   "cell_type": "code",
   "execution_count": 15,
   "metadata": {},
   "outputs": [
    {
     "data": {
      "text/html": [
       "<div>\n",
       "<style scoped>\n",
       "    .dataframe tbody tr th:only-of-type {\n",
       "        vertical-align: middle;\n",
       "    }\n",
       "\n",
       "    .dataframe tbody tr th {\n",
       "        vertical-align: top;\n",
       "    }\n",
       "\n",
       "    .dataframe thead th {\n",
       "        text-align: right;\n",
       "    }\n",
       "</style>\n",
       "<table border=\"1\" class=\"dataframe\">\n",
       "  <thead>\n",
       "    <tr style=\"text-align: right;\">\n",
       "      <th></th>\n",
       "      <th>Feature</th>\n",
       "      <th>PC1</th>\n",
       "      <th>PC2</th>\n",
       "    </tr>\n",
       "  </thead>\n",
       "  <tbody>\n",
       "    <tr>\n",
       "      <th>0</th>\n",
       "      <td>child_mort</td>\n",
       "      <td>-0.476463</td>\n",
       "      <td>0.281733</td>\n",
       "    </tr>\n",
       "    <tr>\n",
       "      <th>1</th>\n",
       "      <td>exports</td>\n",
       "      <td>0.170333</td>\n",
       "      <td>0.466644</td>\n",
       "    </tr>\n",
       "    <tr>\n",
       "      <th>2</th>\n",
       "      <td>health</td>\n",
       "      <td>0.133886</td>\n",
       "      <td>0.044510</td>\n",
       "    </tr>\n",
       "    <tr>\n",
       "      <th>3</th>\n",
       "      <td>imports</td>\n",
       "      <td>0.081620</td>\n",
       "      <td>0.394257</td>\n",
       "    </tr>\n",
       "    <tr>\n",
       "      <th>4</th>\n",
       "      <td>income</td>\n",
       "      <td>0.306981</td>\n",
       "      <td>0.404405</td>\n",
       "    </tr>\n",
       "  </tbody>\n",
       "</table>\n",
       "</div>"
      ],
      "text/plain": [
       "      Feature       PC1       PC2\n",
       "0  child_mort -0.476463  0.281733\n",
       "1     exports  0.170333  0.466644\n",
       "2      health  0.133886  0.044510\n",
       "3     imports  0.081620  0.394257\n",
       "4      income  0.306981  0.404405"
      ]
     },
     "execution_count": 15,
     "metadata": {},
     "output_type": "execute_result"
    }
   ],
   "source": [
    "colnames = list(X.columns)\n",
    "pcs_df = pd.DataFrame({'PC1':pca.components_[0],'PC2':pca.components_[1], 'Feature':colnames})\n",
    "pcs_df.head()"
   ]
  },
  {
   "cell_type": "code",
   "execution_count": 16,
   "metadata": {},
   "outputs": [
    {
     "data": {
      "image/png": "[encoded data removed]",
      "text/plain": [
       "<matplotlib.figure.Figure at 0x1a10f98da0>"
      ]
     },
     "metadata": {},
     "output_type": "display_data"
    }
   ],
   "source": [
    "%matplotlib inline\n",
    "fig = plt.figure(figsize = (8,8))\n",
    "plt.scatter(pcs_df.PC1, pcs_df.PC2)\n",
    "plt.xlabel('Principal Component 1')\n",
    "plt.ylabel('Principal Component 2')\n",
    "for i, txt in enumerate(pcs_df.Feature):\n",
    "    plt.annotate(txt, (pcs_df.PC1[i],pcs_df.PC2[i]))\n",
    "plt.tight_layout()\n",
    "plt.show()"
   ]
  },
  {
   "cell_type": "code",
   "execution_count": 17,
   "metadata": {},
   "outputs": [
    {
     "data": {
      "text/plain": [
       "array([0.55001227, 0.13384784, 0.12301053, 0.09749047, 0.03777964,\n",
       "       0.03013659, 0.01190434, 0.00887791, 0.00694042])"
      ]
     },
     "execution_count": 17,
     "metadata": {},
     "output_type": "execute_result"
    }
   ],
   "source": [
    "pca.explained_variance_ratio_"
   ]
  },
  {
   "cell_type": "code",
   "execution_count": 18,
   "metadata": {},
   "outputs": [
    {
     "data": {
      "image/png": "[encoded data removed]",
      "text/plain": [
       "<matplotlib.figure.Figure at 0x1a10f989e8>"
      ]
     },
     "metadata": {},
     "output_type": "display_data"
    }
   ],
   "source": [
    "%matplotlib inline\n",
    "fig = plt.figure(figsize = (12,8))\n",
    "plt.plot(np.cumsum(pca.explained_variance_ratio_))\n",
    "plt.xlabel('number of components')\n",
    "plt.ylabel('cumulative explained variance')\n",
    "plt.show()"
   ]
  },
  {
   "cell_type": "code",
   "execution_count": 19,
   "metadata": {},
   "outputs": [],
   "source": [
    "# Make an instance of the Model\n",
    "pca_final = PCA(.95)"
   ]
  },
  {
   "cell_type": "code",
   "execution_count": 20,
   "metadata": {},
   "outputs": [],
   "source": [
    "pca_final = IncrementalPCA(n_components=5)"
   ]
  },
  {
   "cell_type": "code",
   "execution_count": 21,
   "metadata": {},
   "outputs": [
    {
     "data": {
      "text/plain": [
       "(167, 5)"
      ]
     },
     "execution_count": 21,
     "metadata": {},
     "output_type": "execute_result"
    }
   ],
   "source": [
    "df_train_pca = pca_final.fit_transform(X)\n",
    "df_train_pca.shape"
   ]
  },
  {
   "cell_type": "code",
   "execution_count": 22,
   "metadata": {},
   "outputs": [],
   "source": [
    "corrmat = np.corrcoef(df_train_pca.transpose())"
   ]
  },
  {
   "cell_type": "code",
   "execution_count": 23,
   "metadata": {},
   "outputs": [
    {
     "data": {
      "text/plain": [
       "<matplotlib.axes._subplots.AxesSubplot at 0x1a1bf06be0>"
      ]
     },
     "execution_count": 23,
     "metadata": {},
     "output_type": "execute_result"
    },
    {
     "data": {
      "image/png": "[encoded data removed]",
      "text/plain": [
       "<matplotlib.figure.Figure at 0x1a10f98860>"
      ]
     },
     "metadata": {},
     "output_type": "display_data"
    }
   ],
   "source": [
    "%matplotlib inline\n",
    "plt.figure(figsize = (20,10))\n",
    "sns.heatmap(corrmat,annot = True)"
   ]
  },
  {
   "cell_type": "code",
   "execution_count": 24,
   "metadata": {},
   "outputs": [
    {
     "name": "stdout",
     "output_type": "stream",
     "text": [
      "max corr: 0.0002547101383654497 , min corr:  -0.0023208312798684775\n"
     ]
    }
   ],
   "source": [
    "corrmat_nodiag = corrmat - np.diagflat(corrmat.diagonal())\n",
    "print(\"max corr:\",corrmat_nodiag.max(), \", min corr: \", corrmat_nodiag.min(),)\n",
    "# we see that correlations are indeed very close to 0"
   ]
  },
  {
   "cell_type": "code",
   "execution_count": 25,
   "metadata": {
    "scrolled": true
   },
   "outputs": [],
   "source": [
    "pca_df = pd.DataFrame(df_train_pca, columns=['PC1','PC2','PC3','PC4','PC5'])"
   ]
  },
  {
   "cell_type": "code",
   "execution_count": 26,
   "metadata": {},
   "outputs": [],
   "source": [
    "final_pca = pd.merge(pca_df[(np.abs(stats.zscore(pca_df)) < 2).all(axis=1)]\n",
    "                     , pd.DataFrame(country['country']), left_index=True, right_index=True)"
   ]
  },
  {
   "cell_type": "code",
   "execution_count": 27,
   "metadata": {
    "scrolled": true
   },
   "outputs": [
    {
     "data": {
      "text/plain": [
       "(140, 6)"
      ]
     },
     "execution_count": 27,
     "metadata": {},
     "output_type": "execute_result"
    }
   ],
   "source": [
    "final_pca.shape"
   ]
  },
  {
   "cell_type": "code",
   "execution_count": 28,
   "metadata": {},
   "outputs": [
    {
     "data": {
      "text/html": [
       "<div>\n",
       "<style scoped>\n",
       "    .dataframe tbody tr th:only-of-type {\n",
       "        vertical-align: middle;\n",
       "    }\n",
       "\n",
       "    .dataframe tbody tr th {\n",
       "        vertical-align: top;\n",
       "    }\n",
       "\n",
       "    .dataframe thead th {\n",
       "        text-align: right;\n",
       "    }\n",
       "</style>\n",
       "<table border=\"1\" class=\"dataframe\">\n",
       "  <thead>\n",
       "    <tr style=\"text-align: right;\">\n",
       "      <th></th>\n",
       "      <th>PC1</th>\n",
       "      <th>PC2</th>\n",
       "      <th>PC3</th>\n",
       "      <th>PC4</th>\n",
       "      <th>PC5</th>\n",
       "      <th>country</th>\n",
       "    </tr>\n",
       "  </thead>\n",
       "  <tbody>\n",
       "    <tr>\n",
       "      <th>0</th>\n",
       "      <td>0.599065</td>\n",
       "      <td>0.095506</td>\n",
       "      <td>0.157437</td>\n",
       "      <td>0.024382</td>\n",
       "      <td>0.042560</td>\n",
       "      <td>Afghanistan</td>\n",
       "    </tr>\n",
       "    <tr>\n",
       "      <th>1</th>\n",
       "      <td>-0.158455</td>\n",
       "      <td>-0.212345</td>\n",
       "      <td>-0.063709</td>\n",
       "      <td>0.061067</td>\n",
       "      <td>-0.017134</td>\n",
       "      <td>Albania</td>\n",
       "    </tr>\n",
       "    <tr>\n",
       "      <th>2</th>\n",
       "      <td>-0.003661</td>\n",
       "      <td>-0.135842</td>\n",
       "      <td>-0.133938</td>\n",
       "      <td>-0.133376</td>\n",
       "      <td>0.092225</td>\n",
       "      <td>Algeria</td>\n",
       "    </tr>\n",
       "    <tr>\n",
       "      <th>3</th>\n",
       "      <td>0.650272</td>\n",
       "      <td>0.276016</td>\n",
       "      <td>-0.143024</td>\n",
       "      <td>-0.155593</td>\n",
       "      <td>0.083921</td>\n",
       "      <td>Angola</td>\n",
       "    </tr>\n",
       "    <tr>\n",
       "      <th>4</th>\n",
       "      <td>-0.200684</td>\n",
       "      <td>-0.065162</td>\n",
       "      <td>-0.100418</td>\n",
       "      <td>0.037680</td>\n",
       "      <td>0.030574</td>\n",
       "      <td>Antigua and Barbuda</td>\n",
       "    </tr>\n",
       "  </tbody>\n",
       "</table>\n",
       "</div>"
      ],
      "text/plain": [
       "        PC1       PC2       PC3       PC4       PC5              country\n",
       "0  0.599065  0.095506  0.157437  0.024382  0.042560          Afghanistan\n",
       "1 -0.158455 -0.212345 -0.063709  0.061067 -0.017134              Albania\n",
       "2 -0.003661 -0.135842 -0.133938 -0.133376  0.092225              Algeria\n",
       "3  0.650272  0.276016 -0.143024 -0.155593  0.083921               Angola\n",
       "4 -0.200684 -0.065162 -0.100418  0.037680  0.030574  Antigua and Barbuda"
      ]
     },
     "execution_count": 28,
     "metadata": {},
     "output_type": "execute_result"
    }
   ],
   "source": [
    "final_pca.head()"
   ]
  },
  {
   "cell_type": "code",
   "execution_count": 29,
   "metadata": {},
   "outputs": [],
   "source": [
    "train_df = pca_df[(np.abs(stats.zscore(pca_df)) < 2).all(axis=1)]"
   ]
  },
  {
   "cell_type": "code",
   "execution_count": 30,
   "metadata": {},
   "outputs": [],
   "source": [
    " def hopkins(X):\n",
    "    d = X.shape[1]\n",
    "    #d = len(vars) # columns\n",
    "    n = len(X) # rows\n",
    "    m = int(0.1 * n) \n",
    "    nbrs = NearestNeighbors(n_neighbors=1).fit(X.values)\n",
    " \n",
    "    rand_X = sample(range(0, n, 1), m)\n",
    " \n",
    "    ujd = []\n",
    "    wjd = []\n",
    "    for j in range(0, m):\n",
    "        u_dist, _ = nbrs.kneighbors(uniform(np.amin(X,axis=0),np.amax(X,axis=0),d).reshape(1, -1), 2, return_distance=True)\n",
    "        ujd.append(u_dist[0][1])\n",
    "        w_dist, _ = nbrs.kneighbors(X.iloc[rand_X[j]].values.reshape(1, -1), 2, return_distance=True)\n",
    "        wjd.append(w_dist[0][1])\n",
    " \n",
    "    H = sum(ujd) / (sum(ujd) + sum(wjd))\n",
    "    if isnan(H):\n",
    "        print(ujd, wjd)\n",
    "        H = 0\n",
    " \n",
    "    return H"
   ]
  },
  {
   "cell_type": "code",
   "execution_count": 55,
   "metadata": {},
   "outputs": [
    {
     "data": {
      "text/plain": [
       "0.7516516759233854"
      ]
     },
     "execution_count": 55,
     "metadata": {},
     "output_type": "execute_result"
    }
   ],
   "source": [
    "hopkins(train_df)"
   ]
  },
  {
   "cell_type": "code",
   "execution_count": 32,
   "metadata": {},
   "outputs": [],
   "source": [
    "sse_ = []\n",
    "for k in range(2, 15):\n",
    "    kmeans = KMeans(n_clusters=k).fit(train_df)\n",
    "    sse_.append([k, silhouette_score(train_df, kmeans.labels_)])"
   ]
  },
  {
   "cell_type": "code",
   "execution_count": 33,
   "metadata": {},
   "outputs": [
    {
     "data": {
      "image/png": "[encoded data removed]",
      "text/plain": [
       "<matplotlib.figure.Figure at 0x1a1bf0f240>"
      ]
     },
     "metadata": {},
     "output_type": "display_data"
    }
   ],
   "source": [
    "plt.plot(pd.DataFrame(sse_)[0], pd.DataFrame(sse_)[1]);"
   ]
  },
  {
   "cell_type": "code",
   "execution_count": 34,
   "metadata": {},
   "outputs": [
    {
     "data": {
      "text/plain": [
       "[<matplotlib.lines.Line2D at 0x1a1cda91d0>]"
      ]
     },
     "execution_count": 34,
     "metadata": {},
     "output_type": "execute_result"
    },
    {
     "data": {
      "image/png": "[encoded data removed]",
      "text/plain": [
       "<matplotlib.figure.Figure at 0x1a1beddcc0>"
      ]
     },
     "metadata": {},
     "output_type": "display_data"
    }
   ],
   "source": [
    "ssd = []\n",
    "for num_clusters in list(range(1,21)):\n",
    "    model_clus = KMeans(n_clusters = num_clusters, max_iter=50)\n",
    "    model_clus.fit(train_df)\n",
    "    ssd.append(model_clus.inertia_)\n",
    "\n",
    "plt.plot(ssd)"
   ]
  },
  {
   "cell_type": "code",
   "execution_count": 35,
   "metadata": {},
   "outputs": [
    {
     "data": {
      "text/plain": [
       "KMeans(algorithm='auto', copy_x=True, init='k-means++', max_iter=50,\n",
       "    n_clusters=5, n_init=10, n_jobs=1, precompute_distances='auto',\n",
       "    random_state=None, tol=0.0001, verbose=0)"
      ]
     },
     "execution_count": 35,
     "metadata": {},
     "output_type": "execute_result"
    }
   ],
   "source": [
    "model_clus5 = KMeans(n_clusters = 5, max_iter=50)\n",
    "model_clus5.fit(train_df)"
   ]
  },
  {
   "cell_type": "code",
   "execution_count": 36,
   "metadata": {
    "scrolled": true
   },
   "outputs": [],
   "source": [
    "country.index = pd.RangeIndex(len(country.index))"
   ]
  },
  {
   "cell_type": "code",
   "execution_count": 37,
   "metadata": {
    "scrolled": true
   },
   "outputs": [],
   "source": [
    "km = pd.merge(country, pd.DataFrame(model_clus5.labels_), left_index=True, right_index=True)"
   ]
  },
  {
   "cell_type": "code",
   "execution_count": 38,
   "metadata": {},
   "outputs": [],
   "source": [
    "km.columns = ['country', 'child_mort', 'exports', 'health', 'imports',\n",
    "              'income', 'inflation', 'life_expec', 'total_fer', 'gdpp', 'ClusterID']"
   ]
  },
  {
   "cell_type": "code",
   "execution_count": 39,
   "metadata": {},
   "outputs": [
    {
     "data": {
      "text/html": [
       "<div>\n",
       "<style scoped>\n",
       "    .dataframe tbody tr th:only-of-type {\n",
       "        vertical-align: middle;\n",
       "    }\n",
       "\n",
       "    .dataframe tbody tr th {\n",
       "        vertical-align: top;\n",
       "    }\n",
       "\n",
       "    .dataframe thead th {\n",
       "        text-align: right;\n",
       "    }\n",
       "</style>\n",
       "<table border=\"1\" class=\"dataframe\">\n",
       "  <thead>\n",
       "    <tr style=\"text-align: right;\">\n",
       "      <th></th>\n",
       "      <th>country</th>\n",
       "      <th>child_mort</th>\n",
       "      <th>exports</th>\n",
       "      <th>health</th>\n",
       "      <th>imports</th>\n",
       "      <th>income</th>\n",
       "      <th>inflation</th>\n",
       "      <th>life_expec</th>\n",
       "      <th>total_fer</th>\n",
       "      <th>gdpp</th>\n",
       "      <th>ClusterID</th>\n",
       "    </tr>\n",
       "  </thead>\n",
       "  <tbody>\n",
       "    <tr>\n",
       "      <th>0</th>\n",
       "      <td>Afghanistan</td>\n",
       "      <td>90.2</td>\n",
       "      <td>10.0</td>\n",
       "      <td>7.58</td>\n",
       "      <td>44.9</td>\n",
       "      <td>1610</td>\n",
       "      <td>9.44</td>\n",
       "      <td>56.2</td>\n",
       "      <td>5.82</td>\n",
       "      <td>553</td>\n",
       "      <td>1</td>\n",
       "    </tr>\n",
       "    <tr>\n",
       "      <th>1</th>\n",
       "      <td>Albania</td>\n",
       "      <td>16.6</td>\n",
       "      <td>28.0</td>\n",
       "      <td>6.55</td>\n",
       "      <td>48.6</td>\n",
       "      <td>9930</td>\n",
       "      <td>4.49</td>\n",
       "      <td>76.3</td>\n",
       "      <td>1.65</td>\n",
       "      <td>4090</td>\n",
       "      <td>3</td>\n",
       "    </tr>\n",
       "    <tr>\n",
       "      <th>2</th>\n",
       "      <td>Algeria</td>\n",
       "      <td>27.3</td>\n",
       "      <td>38.4</td>\n",
       "      <td>4.17</td>\n",
       "      <td>31.4</td>\n",
       "      <td>12900</td>\n",
       "      <td>16.10</td>\n",
       "      <td>76.5</td>\n",
       "      <td>2.89</td>\n",
       "      <td>4460</td>\n",
       "      <td>0</td>\n",
       "    </tr>\n",
       "    <tr>\n",
       "      <th>3</th>\n",
       "      <td>Angola</td>\n",
       "      <td>119.0</td>\n",
       "      <td>62.3</td>\n",
       "      <td>2.85</td>\n",
       "      <td>42.9</td>\n",
       "      <td>5900</td>\n",
       "      <td>22.40</td>\n",
       "      <td>60.1</td>\n",
       "      <td>6.16</td>\n",
       "      <td>3530</td>\n",
       "      <td>1</td>\n",
       "    </tr>\n",
       "    <tr>\n",
       "      <th>4</th>\n",
       "      <td>Antigua and Barbuda</td>\n",
       "      <td>10.3</td>\n",
       "      <td>45.5</td>\n",
       "      <td>6.03</td>\n",
       "      <td>58.9</td>\n",
       "      <td>19100</td>\n",
       "      <td>1.44</td>\n",
       "      <td>76.8</td>\n",
       "      <td>2.13</td>\n",
       "      <td>12200</td>\n",
       "      <td>3</td>\n",
       "    </tr>\n",
       "  </tbody>\n",
       "</table>\n",
       "</div>"
      ],
      "text/plain": [
       "               country  child_mort  exports  health  imports  income  \\\n",
       "0          Afghanistan        90.2     10.0    7.58     44.9    1610   \n",
       "1              Albania        16.6     28.0    6.55     48.6    9930   \n",
       "2              Algeria        27.3     38.4    4.17     31.4   12900   \n",
       "3               Angola       119.0     62.3    2.85     42.9    5900   \n",
       "4  Antigua and Barbuda        10.3     45.5    6.03     58.9   19100   \n",
       "\n",
       "   inflation  life_expec  total_fer   gdpp  ClusterID  \n",
       "0       9.44        56.2       5.82    553          1  \n",
       "1       4.49        76.3       1.65   4090          3  \n",
       "2      16.10        76.5       2.89   4460          0  \n",
       "3      22.40        60.1       6.16   3530          1  \n",
       "4       1.44        76.8       2.13  12200          3  "
      ]
     },
     "execution_count": 39,
     "metadata": {},
     "output_type": "execute_result"
    }
   ],
   "source": [
    "km.head()"
   ]
  },
  {
   "cell_type": "code",
   "execution_count": 40,
   "metadata": {},
   "outputs": [],
   "source": [
    "km_clusters_child_mort = \tpd.DataFrame(km.groupby([\"ClusterID\"]).child_mort.mean())\n",
    "km_clusters_exports = \tpd.DataFrame(km.groupby([\"ClusterID\"]).exports.mean())\n",
    "km_clusters_health = \tpd.DataFrame(km.groupby([\"ClusterID\"]).health.mean())\n",
    "km_clusters_imports = \tpd.DataFrame(km.groupby([\"ClusterID\"]).imports.mean())\n",
    "km_clusters_income = \tpd.DataFrame(km.groupby([\"ClusterID\"]).income.mean())\n",
    "km_clusters_inflation = \tpd.DataFrame(km.groupby([\"ClusterID\"]).inflation.mean())\n",
    "km_clusters_life_expec = \tpd.DataFrame(km.groupby([\"ClusterID\"]).life_expec.mean())\n",
    "km_clusters_total_fer = \tpd.DataFrame(km.groupby([\"ClusterID\"]).total_fer.mean())\n",
    "km_clusters_gdpp = \tpd.DataFrame(km.groupby([\"ClusterID\"]).gdpp.mean())"
   ]
  },
  {
   "cell_type": "code",
   "execution_count": 41,
   "metadata": {},
   "outputs": [
    {
     "data": {
      "text/html": [
       "<div>\n",
       "<style scoped>\n",
       "    .dataframe tbody tr th:only-of-type {\n",
       "        vertical-align: middle;\n",
       "    }\n",
       "\n",
       "    .dataframe tbody tr th {\n",
       "        vertical-align: top;\n",
       "    }\n",
       "\n",
       "    .dataframe thead th {\n",
       "        text-align: right;\n",
       "    }\n",
       "</style>\n",
       "<table border=\"1\" class=\"dataframe\">\n",
       "  <thead>\n",
       "    <tr style=\"text-align: right;\">\n",
       "      <th></th>\n",
       "      <th>ClusterID</th>\n",
       "      <th>child_mort_mean</th>\n",
       "      <th>exports_mean</th>\n",
       "      <th>health_mean</th>\n",
       "      <th>imports_mean</th>\n",
       "      <th>income_mean</th>\n",
       "      <th>inflation_mean</th>\n",
       "      <th>life_expec_mean</th>\n",
       "      <th>total_fer_mean</th>\n",
       "      <th>gdpp_mean</th>\n",
       "    </tr>\n",
       "  </thead>\n",
       "  <tbody>\n",
       "    <tr>\n",
       "      <th>0</th>\n",
       "      <td>0</td>\n",
       "      <td>38.003030</td>\n",
       "      <td>37.373000</td>\n",
       "      <td>6.211515</td>\n",
       "      <td>43.177755</td>\n",
       "      <td>13904.787879</td>\n",
       "      <td>8.198818</td>\n",
       "      <td>70.548485</td>\n",
       "      <td>2.795758</td>\n",
       "      <td>9368.303030</td>\n",
       "    </tr>\n",
       "    <tr>\n",
       "      <th>1</th>\n",
       "      <td>1</td>\n",
       "      <td>47.631034</td>\n",
       "      <td>36.762414</td>\n",
       "      <td>6.793448</td>\n",
       "      <td>44.306897</td>\n",
       "      <td>13523.586207</td>\n",
       "      <td>6.443207</td>\n",
       "      <td>69.441379</td>\n",
       "      <td>3.364828</td>\n",
       "      <td>9412.310345</td>\n",
       "    </tr>\n",
       "    <tr>\n",
       "      <th>2</th>\n",
       "      <td>2</td>\n",
       "      <td>41.938095</td>\n",
       "      <td>41.057143</td>\n",
       "      <td>7.329524</td>\n",
       "      <td>48.985714</td>\n",
       "      <td>17642.857143</td>\n",
       "      <td>5.249667</td>\n",
       "      <td>69.304762</td>\n",
       "      <td>2.764286</td>\n",
       "      <td>17487.571429</td>\n",
       "    </tr>\n",
       "    <tr>\n",
       "      <th>3</th>\n",
       "      <td>3</td>\n",
       "      <td>29.948571</td>\n",
       "      <td>45.005143</td>\n",
       "      <td>7.368000</td>\n",
       "      <td>49.228571</td>\n",
       "      <td>23763.971429</td>\n",
       "      <td>9.354286</td>\n",
       "      <td>72.314286</td>\n",
       "      <td>2.603714</td>\n",
       "      <td>16106.771429</td>\n",
       "    </tr>\n",
       "    <tr>\n",
       "      <th>4</th>\n",
       "      <td>4</td>\n",
       "      <td>41.313636</td>\n",
       "      <td>51.945455</td>\n",
       "      <td>6.329091</td>\n",
       "      <td>57.131818</td>\n",
       "      <td>18443.272727</td>\n",
       "      <td>5.450500</td>\n",
       "      <td>70.050000</td>\n",
       "      <td>3.171818</td>\n",
       "      <td>14239.727273</td>\n",
       "    </tr>\n",
       "  </tbody>\n",
       "</table>\n",
       "</div>"
      ],
      "text/plain": [
       "   ClusterID  child_mort_mean  exports_mean  health_mean  imports_mean  \\\n",
       "0          0        38.003030     37.373000     6.211515     43.177755   \n",
       "1          1        47.631034     36.762414     6.793448     44.306897   \n",
       "2          2        41.938095     41.057143     7.329524     48.985714   \n",
       "3          3        29.948571     45.005143     7.368000     49.228571   \n",
       "4          4        41.313636     51.945455     6.329091     57.131818   \n",
       "\n",
       "    income_mean  inflation_mean  life_expec_mean  total_fer_mean     gdpp_mean  \n",
       "0  13904.787879        8.198818        70.548485        2.795758   9368.303030  \n",
       "1  13523.586207        6.443207        69.441379        3.364828   9412.310345  \n",
       "2  17642.857143        5.249667        69.304762        2.764286  17487.571429  \n",
       "3  23763.971429        9.354286        72.314286        2.603714  16106.771429  \n",
       "4  18443.272727        5.450500        70.050000        3.171818  14239.727273  "
      ]
     },
     "execution_count": 41,
     "metadata": {},
     "output_type": "execute_result"
    }
   ],
   "source": [
    "df = pd.concat([pd.Series([0,1,2,3,4]), km_clusters_child_mort, km_clusters_exports, km_clusters_health,\n",
    "               km_clusters_imports, km_clusters_income, km_clusters_inflation, km_clusters_life_expec,\n",
    "               km_clusters_total_fer, km_clusters_gdpp], axis=1)\n",
    "df.columns = [\"ClusterID\", 'child_mort_mean', 'exports_mean', 'health_mean', 'imports_mean',\n",
    "              'income_mean', 'inflation_mean', 'life_expec_mean', 'total_fer_mean', 'gdpp_mean']\n",
    "df.head()"
   ]
  },
  {
   "cell_type": "code",
   "execution_count": 42,
   "metadata": {},
   "outputs": [
    {
     "data": {
      "image/png": "[encoded data removed]",
      "text/plain": [
       "<matplotlib.figure.Figure at 0x1a1ce4cac8>"
      ]
     },
     "metadata": {},
     "output_type": "display_data"
    }
   ],
   "source": [
    "plt.figure(figsize=(20, 12))\n",
    "plt.subplot(3,3,1)\n",
    "sns.barplot(x=df.ClusterID, y=df.child_mort_mean)\n",
    "plt.subplot(3,3,2)\n",
    "sns.barplot(x=df.ClusterID, y=df.exports_mean)\n",
    "plt.subplot(3,3,3)\n",
    "sns.barplot(x=df.ClusterID, y=df.health_mean)\n",
    "plt.subplot(3,3,4)\n",
    "sns.barplot(x=df.ClusterID, y=df.imports_mean)\n",
    "plt.subplot(3,3,5)\n",
    "sns.barplot(x=df.ClusterID, y=df.income_mean)\n",
    "plt.subplot(3,3,6)\n",
    "sns.barplot(x=df.ClusterID, y=df.inflation_mean)\n",
    "plt.subplot(3,3,7)\n",
    "sns.barplot(x=df.ClusterID, y=df.life_expec_mean)\n",
    "plt.subplot(3,3,8)\n",
    "sns.barplot(x=df.ClusterID, y=df.total_fer_mean)\n",
    "plt.subplot(3,3,9)\n",
    "sns.barplot(x=df.ClusterID, y=df.gdpp_mean)\n",
    "plt.show()"
   ]
  },
  {
   "cell_type": "code",
   "execution_count": 43,
   "metadata": {},
   "outputs": [
    {
     "data": {
      "text/plain": [
       "KMeans(algorithm='auto', copy_x=True, init='k-means++', max_iter=50,\n",
       "    n_clusters=4, n_init=10, n_jobs=1, precompute_distances='auto',\n",
       "    random_state=None, tol=0.0001, verbose=0)"
      ]
     },
     "execution_count": 43,
     "metadata": {},
     "output_type": "execute_result"
    }
   ],
   "source": [
    "model_clus4 = KMeans(n_clusters = 4, max_iter=50)\n",
    "model_clus4.fit(train_df)"
   ]
  },
  {
   "cell_type": "code",
   "execution_count": 44,
   "metadata": {},
   "outputs": [],
   "source": [
    "country.index = pd.RangeIndex(len(country.index))\n",
    "km = pd.merge(country, pd.DataFrame(model_clus4.labels_), left_index=True, right_index=True)\n",
    "km.columns = ['country', 'child_mort', 'exports', 'health', 'imports',\n",
    "              'income', 'inflation', 'life_expec', 'total_fer', 'gdpp', 'ClusterID']\n",
    "\n",
    "km_clusters_child_mort = \tpd.DataFrame(km.groupby([\"ClusterID\"]).child_mort.mean())\n",
    "km_clusters_exports = \tpd.DataFrame(km.groupby([\"ClusterID\"]).exports.mean())\n",
    "km_clusters_health = \tpd.DataFrame(km.groupby([\"ClusterID\"]).health.mean())\n",
    "km_clusters_imports = \tpd.DataFrame(km.groupby([\"ClusterID\"]).imports.mean())\n",
    "km_clusters_income = \tpd.DataFrame(km.groupby([\"ClusterID\"]).income.mean())\n",
    "km_clusters_inflation = \tpd.DataFrame(km.groupby([\"ClusterID\"]).inflation.mean())\n",
    "km_clusters_life_expec = \tpd.DataFrame(km.groupby([\"ClusterID\"]).life_expec.mean())\n",
    "km_clusters_total_fer = \tpd.DataFrame(km.groupby([\"ClusterID\"]).total_fer.mean())\n",
    "km_clusters_gdpp = \tpd.DataFrame(km.groupby([\"ClusterID\"]).gdpp.mean())"
   ]
  },
  {
   "cell_type": "code",
   "execution_count": 45,
   "metadata": {},
   "outputs": [
    {
     "data": {
      "text/html": [
       "<div>\n",
       "<style scoped>\n",
       "    .dataframe tbody tr th:only-of-type {\n",
       "        vertical-align: middle;\n",
       "    }\n",
       "\n",
       "    .dataframe tbody tr th {\n",
       "        vertical-align: top;\n",
       "    }\n",
       "\n",
       "    .dataframe thead th {\n",
       "        text-align: right;\n",
       "    }\n",
       "</style>\n",
       "<table border=\"1\" class=\"dataframe\">\n",
       "  <thead>\n",
       "    <tr style=\"text-align: right;\">\n",
       "      <th></th>\n",
       "      <th>ClusterID</th>\n",
       "      <th>child_mort_mean</th>\n",
       "      <th>exports_mean</th>\n",
       "      <th>health_mean</th>\n",
       "      <th>imports_mean</th>\n",
       "      <th>income_mean</th>\n",
       "      <th>inflation_mean</th>\n",
       "      <th>life_expec_mean</th>\n",
       "      <th>total_fer_mean</th>\n",
       "      <th>gdpp_mean</th>\n",
       "    </tr>\n",
       "  </thead>\n",
       "  <tbody>\n",
       "    <tr>\n",
       "      <th>0</th>\n",
       "      <td>0</td>\n",
       "      <td>46.948485</td>\n",
       "      <td>40.900303</td>\n",
       "      <td>6.756061</td>\n",
       "      <td>48.121212</td>\n",
       "      <td>15761.757576</td>\n",
       "      <td>6.076455</td>\n",
       "      <td>69.721212</td>\n",
       "      <td>3.405455</td>\n",
       "      <td>12483.181818</td>\n",
       "    </tr>\n",
       "    <tr>\n",
       "      <th>1</th>\n",
       "      <td>1</td>\n",
       "      <td>39.378000</td>\n",
       "      <td>40.916180</td>\n",
       "      <td>6.256800</td>\n",
       "      <td>46.439318</td>\n",
       "      <td>14578.920000</td>\n",
       "      <td>6.752040</td>\n",
       "      <td>70.320000</td>\n",
       "      <td>2.892000</td>\n",
       "      <td>9615.800000</td>\n",
       "    </tr>\n",
       "    <tr>\n",
       "      <th>2</th>\n",
       "      <td>2</td>\n",
       "      <td>29.841667</td>\n",
       "      <td>45.052222</td>\n",
       "      <td>7.314444</td>\n",
       "      <td>49.436111</td>\n",
       "      <td>23318.027778</td>\n",
       "      <td>10.183333</td>\n",
       "      <td>72.144444</td>\n",
       "      <td>2.604722</td>\n",
       "      <td>15732.972222</td>\n",
       "    </tr>\n",
       "    <tr>\n",
       "      <th>3</th>\n",
       "      <td>3</td>\n",
       "      <td>41.938095</td>\n",
       "      <td>41.057143</td>\n",
       "      <td>7.329524</td>\n",
       "      <td>48.985714</td>\n",
       "      <td>17642.857143</td>\n",
       "      <td>5.249667</td>\n",
       "      <td>69.304762</td>\n",
       "      <td>2.764286</td>\n",
       "      <td>17487.571429</td>\n",
       "    </tr>\n",
       "  </tbody>\n",
       "</table>\n",
       "</div>"
      ],
      "text/plain": [
       "   ClusterID  child_mort_mean  exports_mean  health_mean  imports_mean  \\\n",
       "0          0        46.948485     40.900303     6.756061     48.121212   \n",
       "1          1        39.378000     40.916180     6.256800     46.439318   \n",
       "2          2        29.841667     45.052222     7.314444     49.436111   \n",
       "3          3        41.938095     41.057143     7.329524     48.985714   \n",
       "\n",
       "    income_mean  inflation_mean  life_expec_mean  total_fer_mean     gdpp_mean  \n",
       "0  15761.757576        6.076455        69.721212        3.405455  12483.181818  \n",
       "1  14578.920000        6.752040        70.320000        2.892000   9615.800000  \n",
       "2  23318.027778       10.183333        72.144444        2.604722  15732.972222  \n",
       "3  17642.857143        5.249667        69.304762        2.764286  17487.571429  "
      ]
     },
     "execution_count": 45,
     "metadata": {},
     "output_type": "execute_result"
    }
   ],
   "source": [
    "df = pd.concat([pd.Series([0,1,2,3]), km_clusters_child_mort, km_clusters_exports, km_clusters_health,\n",
    "               km_clusters_imports, km_clusters_income, km_clusters_inflation, km_clusters_life_expec,\n",
    "               km_clusters_total_fer, km_clusters_gdpp], axis=1)\n",
    "df.columns = [\"ClusterID\", 'child_mort_mean', 'exports_mean', 'health_mean', 'imports_mean',\n",
    "              'income_mean', 'inflation_mean', 'life_expec_mean', 'total_fer_mean', 'gdpp_mean']\n",
    "df.head()"
   ]
  },
  {
   "cell_type": "code",
   "execution_count": 46,
   "metadata": {},
   "outputs": [
    {
     "data": {
      "image/png": "[encoded data removed]",
      "text/plain": [
       "<matplotlib.figure.Figure at 0x1a1d68e588>"
      ]
     },
     "metadata": {},
     "output_type": "display_data"
    }
   ],
   "source": [
    "plt.figure(figsize=(20, 12))\n",
    "plt.subplot(3,3,1)\n",
    "sns.barplot(x=df.ClusterID, y=df.child_mort_mean)\n",
    "plt.subplot(3,3,2)\n",
    "sns.barplot(x=df.ClusterID, y=df.exports_mean)\n",
    "plt.subplot(3,3,3)\n",
    "sns.barplot(x=df.ClusterID, y=df.health_mean)\n",
    "plt.subplot(3,3,4)\n",
    "sns.barplot(x=df.ClusterID, y=df.imports_mean)\n",
    "plt.subplot(3,3,5)\n",
    "sns.barplot(x=df.ClusterID, y=df.income_mean)\n",
    "plt.subplot(3,3,6)\n",
    "sns.barplot(x=df.ClusterID, y=df.inflation_mean)\n",
    "plt.subplot(3,3,7)\n",
    "sns.barplot(x=df.ClusterID, y=df.life_expec_mean)\n",
    "plt.subplot(3,3,8)\n",
    "sns.barplot(x=df.ClusterID, y=df.total_fer_mean)\n",
    "plt.subplot(3,3,9)\n",
    "sns.barplot(x=df.ClusterID, y=df.gdpp_mean)\n",
    "plt.show()"
   ]
  },
  {
   "cell_type": "code",
   "execution_count": 47,
   "metadata": {},
   "outputs": [
    {
     "data": {
      "image/png": "[encoded data removed]",
      "text/plain": [
       "<matplotlib.figure.Figure at 0x1a1d68ec18>"
      ]
     },
     "metadata": {},
     "output_type": "display_data"
    }
   ],
   "source": [
    "mergings = linkage(train_df, method = \"single\", metric='euclidean')\n",
    "dendrogram(mergings)\n",
    "plt.show()"
   ]
  },
  {
   "cell_type": "code",
   "execution_count": 48,
   "metadata": {},
   "outputs": [
    {
     "data": {
      "image/png": "[encoded data removed]",
      "text/plain": [
       "<matplotlib.figure.Figure at 0x1a1d978160>"
      ]
     },
     "metadata": {},
     "output_type": "display_data"
    }
   ],
   "source": [
    "mergings = linkage(train_df, method = \"complete\", metric='euclidean')\n",
    "dendrogram(mergings)\n",
    "plt.show()"
   ]
  },
  {
   "cell_type": "code",
   "execution_count": 49,
   "metadata": {},
   "outputs": [
    {
     "data": {
      "text/plain": [
       "Index(['country', 'child_mort', 'exports', 'health', 'imports', 'income',\n",
       "       'inflation', 'life_expec', 'total_fer', 'gdpp'],\n",
       "      dtype='object')"
      ]
     },
     "execution_count": 49,
     "metadata": {},
     "output_type": "execute_result"
    }
   ],
   "source": [
    "country.columns"
   ]
  },
  {
   "cell_type": "code",
   "execution_count": 50,
   "metadata": {},
   "outputs": [],
   "source": [
    "clusterCut = pd.Series(cut_tree(mergings, n_clusters = 5).reshape(-1,))\n",
    "country_hc = pd.merge(country, pd.DataFrame(clusterCut), left_index=True, right_index=True)\n",
    "country_hc.columns = ['country', 'child_mort', 'exports', 'health', 'imports', 'income',\n",
    "                      'inflation', 'life_expec', 'total_fer', 'gdpp', 'ClusterID']"
   ]
  },
  {
   "cell_type": "code",
   "execution_count": 51,
   "metadata": {},
   "outputs": [],
   "source": [
    "country_hc_child_mort = \tpd.DataFrame(country_hc.groupby([\"ClusterID\"]).child_mort.mean())\n",
    "country_hc_exports = \tpd.DataFrame(country_hc.groupby([\"ClusterID\"]).exports.mean())\n",
    "country_hc_health = \tpd.DataFrame(country_hc.groupby([\"ClusterID\"]).health.mean())\n",
    "country_hc_imports = \tpd.DataFrame(country_hc.groupby([\"ClusterID\"]).imports.mean())\n",
    "country_hc_income = \tpd.DataFrame(country_hc.groupby([\"ClusterID\"]).income.mean())\n",
    "country_hc_inflation = \tpd.DataFrame(country_hc.groupby([\"ClusterID\"]).inflation.mean())\n",
    "country_hc_life_expec = \tpd.DataFrame(country_hc.groupby([\"ClusterID\"]).life_expec.mean())\n",
    "country_hc_total_fer = \tpd.DataFrame(country_hc.groupby([\"ClusterID\"]).total_fer.mean())\n",
    "country_hc_gdpp = \tpd.DataFrame(country_hc.groupby([\"ClusterID\"]).gdpp.mean())"
   ]
  },
  {
   "cell_type": "code",
   "execution_count": 52,
   "metadata": {},
   "outputs": [
    {
     "data": {
      "text/html": [
       "<div>\n",
       "<style scoped>\n",
       "    .dataframe tbody tr th:only-of-type {\n",
       "        vertical-align: middle;\n",
       "    }\n",
       "\n",
       "    .dataframe tbody tr th {\n",
       "        vertical-align: top;\n",
       "    }\n",
       "\n",
       "    .dataframe thead th {\n",
       "        text-align: right;\n",
       "    }\n",
       "</style>\n",
       "<table border=\"1\" class=\"dataframe\">\n",
       "  <thead>\n",
       "    <tr style=\"text-align: right;\">\n",
       "      <th></th>\n",
       "      <th>ClusterID</th>\n",
       "      <th>child_mort_mean</th>\n",
       "      <th>exports_mean</th>\n",
       "      <th>health_mean</th>\n",
       "      <th>imports_mean</th>\n",
       "      <th>income_mean</th>\n",
       "      <th>inflation_mean</th>\n",
       "      <th>life_expec_mean</th>\n",
       "      <th>total_fer_mean</th>\n",
       "      <th>gdpp_mean</th>\n",
       "    </tr>\n",
       "  </thead>\n",
       "  <tbody>\n",
       "    <tr>\n",
       "      <th>0</th>\n",
       "      <td>0</td>\n",
       "      <td>48.135714</td>\n",
       "      <td>36.925357</td>\n",
       "      <td>6.850357</td>\n",
       "      <td>44.353571</td>\n",
       "      <td>13776.571429</td>\n",
       "      <td>6.638464</td>\n",
       "      <td>69.296429</td>\n",
       "      <td>3.392857</td>\n",
       "      <td>9647.392857</td>\n",
       "    </tr>\n",
       "    <tr>\n",
       "      <th>1</th>\n",
       "      <td>1</td>\n",
       "      <td>35.264000</td>\n",
       "      <td>41.221600</td>\n",
       "      <td>7.027200</td>\n",
       "      <td>49.876000</td>\n",
       "      <td>17403.780000</td>\n",
       "      <td>6.640080</td>\n",
       "      <td>70.578000</td>\n",
       "      <td>2.732800</td>\n",
       "      <td>13066.960000</td>\n",
       "    </tr>\n",
       "    <tr>\n",
       "      <th>2</th>\n",
       "      <td>2</td>\n",
       "      <td>37.183333</td>\n",
       "      <td>48.945833</td>\n",
       "      <td>5.989583</td>\n",
       "      <td>53.716667</td>\n",
       "      <td>15223.333333</td>\n",
       "      <td>7.319708</td>\n",
       "      <td>71.204167</td>\n",
       "      <td>2.917083</td>\n",
       "      <td>8758.791667</td>\n",
       "    </tr>\n",
       "    <tr>\n",
       "      <th>3</th>\n",
       "      <td>3</td>\n",
       "      <td>43.315000</td>\n",
       "      <td>38.420000</td>\n",
       "      <td>7.526000</td>\n",
       "      <td>46.035000</td>\n",
       "      <td>17505.000000</td>\n",
       "      <td>5.722650</td>\n",
       "      <td>69.100000</td>\n",
       "      <td>2.794000</td>\n",
       "      <td>17821.950000</td>\n",
       "    </tr>\n",
       "    <tr>\n",
       "      <th>4</th>\n",
       "      <td>4</td>\n",
       "      <td>33.527778</td>\n",
       "      <td>46.750500</td>\n",
       "      <td>6.421667</td>\n",
       "      <td>42.931439</td>\n",
       "      <td>27091.111111</td>\n",
       "      <td>11.497833</td>\n",
       "      <td>72.738889</td>\n",
       "      <td>2.848333</td>\n",
       "      <td>18679.777778</td>\n",
       "    </tr>\n",
       "  </tbody>\n",
       "</table>\n",
       "</div>"
      ],
      "text/plain": [
       "   ClusterID  child_mort_mean  exports_mean  health_mean  imports_mean  \\\n",
       "0          0        48.135714     36.925357     6.850357     44.353571   \n",
       "1          1        35.264000     41.221600     7.027200     49.876000   \n",
       "2          2        37.183333     48.945833     5.989583     53.716667   \n",
       "3          3        43.315000     38.420000     7.526000     46.035000   \n",
       "4          4        33.527778     46.750500     6.421667     42.931439   \n",
       "\n",
       "    income_mean  inflation_mean  life_expec_mean  total_fer_mean     gdpp_mean  \n",
       "0  13776.571429        6.638464        69.296429        3.392857   9647.392857  \n",
       "1  17403.780000        6.640080        70.578000        2.732800  13066.960000  \n",
       "2  15223.333333        7.319708        71.204167        2.917083   8758.791667  \n",
       "3  17505.000000        5.722650        69.100000        2.794000  17821.950000  \n",
       "4  27091.111111       11.497833        72.738889        2.848333  18679.777778  "
      ]
     },
     "execution_count": 52,
     "metadata": {},
     "output_type": "execute_result"
    }
   ],
   "source": [
    "df = pd.concat([pd.Series([0,1,2,3,4]), country_hc_child_mort, country_hc_exports, country_hc_health,\n",
    "               country_hc_imports, country_hc_income, country_hc_inflation, country_hc_life_expec,\n",
    "               country_hc_total_fer, country_hc_gdpp], axis=1)\n",
    "df.columns = [\"ClusterID\", 'child_mort_mean', 'exports_mean', 'health_mean', 'imports_mean',\n",
    "              'income_mean', 'inflation_mean', 'life_expec_mean', 'total_fer_mean', 'gdpp_mean']\n",
    "df.head()"
   ]
  },
  {
   "cell_type": "code",
   "execution_count": 53,
   "metadata": {},
   "outputs": [
    {
     "data": {
      "image/png": "[encoded data removed]",
      "text/plain": [
       "<matplotlib.figure.Figure at 0x1a1d9b9208>"
      ]
     },
     "metadata": {},
     "output_type": "display_data"
    }
   ],
   "source": [
    "plt.figure(figsize=(20, 12))\n",
    "plt.subplot(3,3,1)\n",
    "sns.barplot(x=df.ClusterID, y=df.child_mort_mean)\n",
    "plt.subplot(3,3,2)\n",
    "sns.barplot(x=df.ClusterID, y=df.exports_mean)\n",
    "plt.subplot(3,3,3)\n",
    "sns.barplot(x=df.ClusterID, y=df.health_mean)\n",
    "plt.subplot(3,3,4)\n",
    "sns.barplot(x=df.ClusterID, y=df.imports_mean)\n",
    "plt.subplot(3,3,5)\n",
    "sns.barplot(x=df.ClusterID, y=df.income_mean)\n",
    "plt.subplot(3,3,6)\n",
    "sns.barplot(x=df.ClusterID, y=df.inflation_mean)\n",
    "plt.subplot(3,3,7)\n",
    "sns.barplot(x=df.ClusterID, y=df.life_expec_mean)\n",
    "plt.subplot(3,3,8)\n",
    "sns.barplot(x=df.ClusterID, y=df.total_fer_mean)\n",
    "plt.subplot(3,3,9)\n",
    "sns.barplot(x=df.ClusterID, y=df.gdpp_mean)\n",
    "plt.show()"
   ]
  },
  {
   "cell_type": "code",
   "execution_count": null,
   "metadata": {},
   "outputs": [],
   "source": []
  }
 ],
 "metadata": {
  "kernelspec": {
   "display_name": "Python 3",
   "language": "python",
   "name": "python3"
  },
  "language_info": {
   "codemirror_mode": {
    "name": "ipython",
    "version": 3
   },
   "file_extension": ".py",
   "mimetype": "text/x-python",
   "name": "python",
   "nbconvert_exporter": "python",
   "pygments_lexer": "ipython3",
   "version": "3.6.4"
  }
 },
 "nbformat": 4,
 "nbformat_minor": 2
}
